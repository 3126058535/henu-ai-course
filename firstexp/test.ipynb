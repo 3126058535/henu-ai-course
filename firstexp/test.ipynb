{
 "cells": [
  {
   "cell_type": "code",
   "execution_count": 5,
   "metadata": {},
   "outputs": [],
   "source": [
    "import tensorflow.compat.v1 as tf\n"
   ]
  },
  {
   "cell_type": "code",
   "execution_count": 6,
   "metadata": {},
   "outputs": [],
   "source": [
    "tf.compat.v1.disable_eager_execution()\n",
    "x1 = tf.placeholder(dtype=tf.float32)\n",
    "x2 = tf.placeholder(dtype=tf.float32)\n",
    "x3 = tf.placeholder(dtype=tf.float32)\n",
    "x4 = tf.placeholder(dtype=tf.float32)\n",
    "ytrain = tf.placeholder(dtype=tf.float32)\n",
    "w1 = tf.Variable(0.1, dtype=tf.float32)\n",
    "w2 = tf.Variable(0.1, dtype=tf.float32)\n",
    "w3 = tf.Variable(0.1, dtype=tf.float32)\n",
    "w4 = tf.Variable(0.1, dtype=tf.float32)"
   ]
  },
  {
   "cell_type": "code",
   "execution_count": 7,
   "metadata": {},
   "outputs": [],
   "source": [
    "n1 = x1 * w1\n",
    "n2 = x2 * w2\n",
    "n3 = x3 * w3\n",
    "n4 = x4 * w4\n",
    "y = n1 + n2 + n3 + n4\n",
    "\n",
    "loss = tf.square(ytrain - y)\n",
    "#optimizer = tf.train.GradientDescentOptimizer(0.01)\n",
    "#optimizer = tf.train.AdamOptimizer(0.01)\n",
    "optimizer = tf.train.RMSPropOptimizer(0.01)\n",
    "train = optimizer.minimize(loss)\n",
    "\n",
    "sess = tf.Session()\n",
    "init = tf.global_variables_initializer()\n",
    "sess.run(init)"
   ]
  },
  {
   "cell_type": "code",
   "execution_count": 14,
   "metadata": {},
   "outputs": [
    {
     "name": "stderr",
     "output_type": "stream",
     "text": [
      "100%|██████████| 1000/1000 [00:02<00:00, 446.10it/s]"
     ]
    },
    {
     "name": "stdout",
     "output_type": "stream",
     "text": [
      "\u001b[32mResult 2: \n",
      "w1=0.5176030993461609, \n",
      "w2=0.26582232117652893, \n",
      "w3=0.10638151317834854, \n",
      "w4=0.12811990082263947\u001b[0m\n"
     ]
    },
    {
     "name": "stderr",
     "output_type": "stream",
     "text": [
      "\n"
     ]
    }
   ],
   "source": [
    "from tqdm import tqdm\n",
    "from colorama import Fore, Style\n",
    "\n",
    "# 设置循环次数\n",
    "losses = []\n",
    "for i in tqdm(range(1000)):\n",
    "    # 第一个数据集\n",
    "    result1 = sess.run([train, x1, x2, x3, x4, w1, w2, w3, w4, y, ytrain, loss], feed_dict={x1: 90, x2: 80, x3: 80,  x4:70, ytrain: 84})\n",
    "    result2 = sess.run([train, x1, x2, x3, x4, w1, w2, w3, w4, y, ytrain, loss], feed_dict={x1: 80, x2: 90, x3: 100, x4:90, ytrain: 86})\n",
    "    result3 = sess.run([train, x1, x2, x3, x4, w1, w2, w3, w4, y, ytrain, loss], feed_dict={x1: 90, x2: 100, x3: 70, x4:100, ytrain: 92})\n",
    "    losses.append(result1[-1])\n",
    "\n",
    "tqdm.write(Fore.GREEN + \"Result 2: \\nw1={}, \\nw2={}, \\nw3={}, \\nw4={}\".format(result2[5], result2[6], result2[7], result2[8]) + Style.RESET_ALL)\n"
   ]
  },
  {
   "cell_type": "code",
   "execution_count": null,
   "metadata": {},
   "outputs": [],
   "source": []
  }
 ],
 "metadata": {
  "kernelspec": {
   "display_name": "atificial",
   "language": "python",
   "name": "python3"
  },
  "language_info": {
   "codemirror_mode": {
    "name": "ipython",
    "version": 3
   },
   "file_extension": ".py",
   "mimetype": "text/x-python",
   "name": "python",
   "nbconvert_exporter": "python",
   "pygments_lexer": "ipython3",
   "version": "3.8.18"
  }
 },
 "nbformat": 4,
 "nbformat_minor": 2
}
